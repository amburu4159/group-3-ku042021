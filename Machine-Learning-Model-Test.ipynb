{
 "cells": [
  {
   "cell_type": "code",
   "execution_count": null,
   "id": "1197fe9f",
   "metadata": {},
   "outputs": [],
   "source": [
    "import warnings\n",
    "warnings.filterwarnings('ignore')"
   ]
  },
  {
   "cell_type": "code",
   "execution_count": null,
   "id": "c5d46da1",
   "metadata": {},
   "outputs": [],
   "source": [
    "import numpy as np\n",
    "import pandas as pd\n",
    "from pathlib import Path\n",
    "from collections import Counter\n",
    "from matplotlib import pyplot as plt"
   ]
  },
  {
   "cell_type": "code",
   "execution_count": null,
   "id": "43822847",
   "metadata": {},
   "outputs": [],
   "source": [
    "#Read/Use Clean DataFrame"
   ]
  },
  {
   "cell_type": "code",
   "execution_count": null,
   "id": "6ba4b04b",
   "metadata": {},
   "outputs": [],
   "source": [
    "#Set features and target variables\n",
    "X = df.drop(columns=[\"\"])\n",
    "\n",
    "#Target variable is whether or not accident included a fatality\n",
    "y = df['']"
   ]
  },
  {
   "cell_type": "code",
   "execution_count": null,
   "id": "7986460c",
   "metadata": {},
   "outputs": [],
   "source": [
    "#Import dependencies for scaling the data\n",
    "from sklearn.model_selection import train_test_split\n",
    "from sklearn.preprocessing import StandardScaler\n",
    "\n",
    "#Train/Test/Split data into training and testing groups\n",
    "X_train, X_test, y_train, y_test = train_test_split(X, y)\n",
    "\n",
    "#Fit scaler to the training set of features\n",
    "scaler = StandardScaler().fit(X_train)\n",
    "\n",
    "#Transforming both the training and testing datasets into scaled data\n",
    "X_train_scaled = scaler.transform(X_train)\n",
    "X_test_scaled = scaler.transform(X_test)"
   ]
  },
  {
   "cell_type": "code",
   "execution_count": null,
   "id": "bf3373b8",
   "metadata": {},
   "outputs": [],
   "source": [
    "#Use RandomForestClassifier on scaled data\n",
    "from sklearn.ensemble import RandomForestClassifier\n",
    "clf = RandomForestClassifier(n_estimators=500).fit(X_train_scaled, y_train)"
   ]
  },
  {
   "cell_type": "code",
   "execution_count": null,
   "id": "260a99a0",
   "metadata": {},
   "outputs": [],
   "source": [
    "#Finding the most important features of the dataset\n",
    "features1 = clf.feature_importances_\n",
    "print(features1)\n",
    "plt.bar(x = range(len(features1)), height=features1)\n",
    "plt.show()"
   ]
  },
  {
   "cell_type": "code",
   "execution_count": null,
   "id": "0d36b6db",
   "metadata": {},
   "outputs": [],
   "source": [
    "# Use the following code to plot the most important features\n",
    "features = sorted(zip(X.columns, features1), key = lambda x: x[1])\n",
    "cols = [f[0] for f in features]\n",
    "width = [f[1] for f in features]\n",
    "\n",
    "fig, ax = plt.subplots()\n",
    "\n",
    "fig.set_size_inches(5,20)\n",
    "plt.margins(y=0.001)\n",
    "\n",
    "ax.barh(y=cols, width=width)\n",
    "\n",
    "plt.show()"
   ]
  },
  {
   "cell_type": "code",
   "execution_count": null,
   "id": "ce9a438e",
   "metadata": {},
   "outputs": [],
   "source": [
    "#Fitting most important features to a model\n",
    "from sklearn.feature_selection import SelectFromModel\n",
    "sel = SelectFromModel(clf)\n",
    "sel.fit(X_train_scaled, y_train)\n",
    "sel.get_support()"
   ]
  },
  {
   "cell_type": "code",
   "execution_count": null,
   "id": "33a33817",
   "metadata": {},
   "outputs": [],
   "source": [
    "#Training and testing the selected features\n",
    "X_selected_train, X_selected_test, y_train, y_test = train_test_split(sel.transform(X), y)"
   ]
  },
  {
   "cell_type": "code",
   "execution_count": null,
   "id": "a7a53092",
   "metadata": {},
   "outputs": [],
   "source": [
    "# Resample the training data with SMOTE\n",
    "from imblearn.over_sampling import SMOTE\n",
    "X_resampled, y_resampled = SMOTE(random_state=1, sampling_strategy=\"auto\").fit_resample(\n",
    "    X_selected_train, y_train\n",
    ")\n",
    "Counter(y_resampled)"
   ]
  },
  {
   "cell_type": "code",
   "execution_count": null,
   "id": "19621eb9",
   "metadata": {},
   "outputs": [],
   "source": [
    "# Train the Logistic Regression model using the resampled data\n",
    "model = LogisticRegression(solver='lbfgs', random_state=1)\n",
    "model.fit(X_resampled, y_resampled)"
   ]
  },
  {
   "cell_type": "code",
   "execution_count": null,
   "id": "e2699e91",
   "metadata": {},
   "outputs": [],
   "source": [
    "# Calculated the balanced accuracy score\n",
    "y_pred = model.predict(X_selected_test)\n",
    "balanced_accuracy_score(y_test, y_pred)"
   ]
  },
  {
   "cell_type": "code",
   "execution_count": null,
   "id": "cbce627e",
   "metadata": {},
   "outputs": [],
   "source": [
    "# Display the confusion matrix\n",
    "confusion_matrix(y_test, y_pred)"
   ]
  },
  {
   "cell_type": "code",
   "execution_count": null,
   "id": "e9160d0b",
   "metadata": {},
   "outputs": [],
   "source": [
    "# Print the imbalanced classification report\n",
    "print(classification_report_imbalanced(y_test, y_pred))"
   ]
  }
 ],
 "metadata": {
  "kernelspec": {
   "display_name": "mlenv",
   "language": "python",
   "name": "mlenv"
  },
  "language_info": {
   "codemirror_mode": {
    "name": "ipython",
    "version": 3
   },
   "file_extension": ".py",
   "mimetype": "text/x-python",
   "name": "python",
   "nbconvert_exporter": "python",
   "pygments_lexer": "ipython3",
   "version": "3.7.10"
  }
 },
 "nbformat": 4,
 "nbformat_minor": 5
}

{
 "cells": [
  {
   "cell_type": "code",
   "execution_count": null,
   "id": "c58629ec",
   "metadata": {},
   "outputs": [],
   "source": [
    "import warnings\n",
    "warnings.filterwarnings('ignore')"
   ]
  },
  {
   "cell_type": "code",
   "execution_count": null,
   "id": "f3dee35d",
   "metadata": {},
   "outputs": [],
   "source": [
    "import numpy as np\n",
    "import pandas as pd\n",
    "from pathlib import Path\n",
    "from collections import Counter\n",
    "from matplotlib import pyplot as plt"
   ]
  },
  {
   "cell_type": "code",
   "execution_count": null,
   "id": "a61ce7b8",
   "metadata": {},
   "outputs": [],
   "source": [
    "#Read/Use Clean DataFrame"
   ]
  },
  {
   "cell_type": "code",
   "execution_count": null,
   "id": "2af9c1e3",
   "metadata": {},
   "outputs": [],
   "source": [
    "#Set features and target variables\n",
    "X = df.drop(columns=[\"\"])\n",
    "\n",
    "#Target variable is whether or not accident included a fatality\n",
    "y = df['']"
   ]
  },
  {
   "cell_type": "code",
   "execution_count": null,
   "id": "4798995d",
   "metadata": {},
   "outputs": [],
   "source": [
    "#Import dependencies for scaling the data\n",
    "from sklearn.model_selection import train_test_split\n",
    "from sklearn.preprocessing import StandardScaler\n",
    "\n",
    "#Train/Test/Split data into training and testing groups\n",
    "X_train, X_test, y_train, y_test = train_test_split(X, y)\n",
    "\n",
    "#Fit scaler to the training set of features\n",
    "scaler = StandardScaler().fit(X_train)\n",
    "\n",
    "#Transforming both the training and testing datasets into scaled data\n",
    "X_train_scaled = scaler.transform(X_train)\n",
    "X_test_scaled = scaler.transform(X_test)"
   ]
  },
  {
   "cell_type": "code",
   "execution_count": null,
   "id": "5792da72",
   "metadata": {},
   "outputs": [],
   "source": [
    "#Use RandomForestClassifier on scaled data\n",
    "from sklearn.ensemble import RandomForestClassifier\n",
    "clf = RandomForestClassifier(n_estimators=500).fit(X_train_scaled, y_train)"
   ]
  },
  {
   "cell_type": "code",
   "execution_count": null,
   "id": "31928a24",
   "metadata": {},
   "outputs": [],
   "source": [
    "#Finding the most important features of the dataset\n",
    "features1 = clf.feature_importances_\n",
    "print(features1)\n",
    "plt.bar(x = range(len(features1)), height=features1)\n",
    "plt.show()"
   ]
  },
  {
   "cell_type": "code",
   "execution_count": null,
   "id": "f1290e33",
   "metadata": {},
   "outputs": [],
   "source": [
    "# Use the following code to plot the most important features\n",
    "features = sorted(zip(X.columns, features1), key = lambda x: x[1])\n",
    "cols = [f[0] for f in features]\n",
    "width = [f[1] for f in features]\n",
    "\n",
    "fig, ax = plt.subplots()\n",
    "\n",
    "fig.set_size_inches(5,20)\n",
    "plt.margins(y=0.001)\n",
    "\n",
    "ax.barh(y=cols, width=width)\n",
    "\n",
    "plt.show()"
   ]
  },
  {
   "cell_type": "code",
   "execution_count": null,
   "id": "e918eca5",
   "metadata": {},
   "outputs": [],
   "source": [
    "#Fitting most important features to a model\n",
    "from sklearn.feature_selection import SelectFromModel\n",
    "sel = SelectFromModel(clf)\n",
    "sel.fit(X_train_scaled, y_train)\n",
    "sel.get_support()"
   ]
  },
  {
   "cell_type": "code",
   "execution_count": null,
   "id": "1f13e18b",
   "metadata": {},
   "outputs": [],
   "source": [
    "#Training and testing the selected features\n",
    "X_selected_train, X_selected_test, y_train, y_test = train_test_split(sel.transform(X), y)"
   ]
  }
 ],
 "metadata": {
  "kernelspec": {
   "display_name": "mlenv",
   "language": "python",
   "name": "mlenv"
  },
  "language_info": {
   "codemirror_mode": {
    "name": "ipython",
    "version": 3
   },
   "file_extension": ".py",
   "mimetype": "text/x-python",
   "name": "python",
   "nbconvert_exporter": "python",
   "pygments_lexer": "ipython3",
   "version": "3.7.10"
  }
 },
 "nbformat": 4,
 "nbformat_minor": 5
}
